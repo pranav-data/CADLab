{
  "nbformat": 4,
  "nbformat_minor": 0,
  "metadata": {
    "colab": {
      "name": "convert pytorch model to keras.ipynb",
      "provenance": [],
      "authorship_tag": "ABX9TyMfwOCDXzsfZ7AO09citCbZ",
      "include_colab_link": true
    },
    "kernelspec": {
      "name": "python3",
      "display_name": "Python 3"
    }
  },
  "cells": [
    {
      "cell_type": "markdown",
      "metadata": {
        "id": "view-in-github",
        "colab_type": "text"
      },
      "source": [
        "<a href=\"https://colab.research.google.com/github/pranav-data/CADLab/blob/master/convert_pytorch_model_to_keras.ipynb\" target=\"_parent\"><img src=\"https://colab.research.google.com/assets/colab-badge.svg\" alt=\"Open In Colab\"/></a>"
      ]
    },
    {
      "cell_type": "code",
      "metadata": {
        "id": "hEjur2P_7eRo",
        "colab_type": "code",
        "colab": {}
      },
      "source": [
        "import torch"
      ],
      "execution_count": 0,
      "outputs": []
    },
    {
      "cell_type": "code",
      "metadata": {
        "id": "tWzNbbEl7gKr",
        "colab_type": "code",
        "colab": {}
      },
      "source": [
        "import torchvision"
      ],
      "execution_count": 0,
      "outputs": []
    },
    {
      "cell_type": "code",
      "metadata": {
        "id": "VSxz5TzD7t1T",
        "colab_type": "code",
        "colab": {}
      },
      "source": [
        "import onnx\n",
        "import numpy as np"
      ],
      "execution_count": 0,
      "outputs": []
    },
    {
      "cell_type": "code",
      "metadata": {
        "id": "lktPNhDSNwor",
        "colab_type": "code",
        "colab": {}
      },
      "source": [
        "from tensorflow import Variable"
      ],
      "execution_count": 0,
      "outputs": []
    },
    {
      "cell_type": "code",
      "metadata": {
        "id": "TNRYBOAI74xy",
        "colab_type": "code",
        "colab": {}
      },
      "source": [
        "#!pip install onnx"
      ],
      "execution_count": 0,
      "outputs": []
    },
    {
      "cell_type": "code",
      "metadata": {
        "id": "NfMQodzl8KNu",
        "colab_type": "code",
        "colab": {}
      },
      "source": [
        "#!pip install onnx2keras"
      ],
      "execution_count": 0,
      "outputs": []
    },
    {
      "cell_type": "code",
      "metadata": {
        "id": "oJNihD748P5X",
        "colab_type": "code",
        "colab": {}
      },
      "source": [
        "#!pip install pytorch2keras \n",
        "#!pip install pytorch-model-summary"
      ],
      "execution_count": 0,
      "outputs": []
    },
    {
      "cell_type": "code",
      "metadata": {
        "id": "RsulseBKFS7y",
        "colab_type": "code",
        "colab": {}
      },
      "source": [
        "from pytorch2keras import pytorch_to_keras\n",
        "from pytorch_model_summary import summary"
      ],
      "execution_count": 0,
      "outputs": []
    },
    {
      "cell_type": "code",
      "metadata": {
        "id": "0dZF7ltKeUId",
        "colab_type": "code",
        "colab": {}
      },
      "source": [
        "from torchvision.models import resnet101"
      ],
      "execution_count": 0,
      "outputs": []
    },
    {
      "cell_type": "code",
      "metadata": {
        "id": "zHYtBzKQGava",
        "colab_type": "code",
        "colab": {
          "base_uri": "https://localhost:8080/",
          "height": 34
        },
        "outputId": "1cbdd4b4-3174-40a5-9968-12f4044e2d43"
      },
      "source": [
        "import os, sys\n",
        "from google.colab import drive\n",
        "drive.mount('/content/drive')"
      ],
      "execution_count": 107,
      "outputs": [
        {
          "output_type": "stream",
          "text": [
            "Drive already mounted at /content/drive; to attempt to forcibly remount, call drive.mount(\"/content/drive\", force_remount=True).\n"
          ],
          "name": "stdout"
        }
      ]
    },
    {
      "cell_type": "code",
      "metadata": {
        "id": "HD4GY8qJJg6L",
        "colab_type": "code",
        "colab": {
          "base_uri": "https://localhost:8080/",
          "height": 269
        },
        "outputId": "96cdd2eb-587d-4fcb-f7ad-b9f8e338bbd1"
      },
      "source": [
        "!ls '/content/drive/My Drive/'"
      ],
      "execution_count": 108,
      "outputs": [
        {
          "output_type": "stream",
          "text": [
            " chest_xray\n",
            " CIND110.ova\n",
            "'Colab Notebooks'\n",
            " Crime_Data_from_2010_to_Present.csv\n",
            "'Deep learning HW1 - cevik version - Q4.ipynb'\n",
            "'Deep learning lectures'\n",
            "'DS8001-Assignment1-Pranav kumar Seerala'\n",
            " DS8001-project-PranavKumarSeerala\n",
            " ds8004_lab1_linearDiscrimination_soln.ipynb\n",
            " ds8004_lab2_mlpBackpropagation_soln.ipynb\n",
            " ds8004_lab3_LSTM_soln.ipynb\n",
            " ds8004_lab5_svm_soln.ipynb\n",
            " HDP_2.6.5_virtualbox_180626.ova\n",
            " Lab1-4.zip\n",
            "'Q1 link - Pranav Kumar Seerala.txt'\n"
          ],
          "name": "stdout"
        }
      ]
    },
    {
      "cell_type": "code",
      "metadata": {
        "id": "eULG1_UaG8JB",
        "colab_type": "code",
        "colab": {}
      },
      "source": [
        "!cd \"/content/mnt/My Drive/Colab Notebooks\""
      ],
      "execution_count": 0,
      "outputs": []
    },
    {
      "cell_type": "code",
      "metadata": {
        "id": "SvX7CiRYebXH",
        "colab_type": "code",
        "colab": {}
      },
      "source": [
        "base_model = resnet101()\n"
      ],
      "execution_count": 0,
      "outputs": []
    },
    {
      "cell_type": "code",
      "metadata": {
        "id": "W4D7D5d8eyOr",
        "colab_type": "code",
        "colab": {
          "base_uri": "https://localhost:8080/",
          "height": 383
        },
        "outputId": "fd42ef49-d6c3-4f16-b19d-94ef86c267a5"
      },
      "source": [
        "base_model.load_state_dict(torch.load('/content/drive/My Drive/Colab Notebooks/XLSor.pth',map_location=torch.device('cpu')))"
      ],
      "execution_count": 110,
      "outputs": [
        {
          "output_type": "error",
          "ename": "RuntimeError",
          "evalue": "ignored",
          "traceback": [
            "\u001b[0;31m---------------------------------------------------------------------------\u001b[0m",
            "\u001b[0;31mRuntimeError\u001b[0m                              Traceback (most recent call last)",
            "\u001b[0;32m<ipython-input-110-48356beca60a>\u001b[0m in \u001b[0;36m<module>\u001b[0;34m()\u001b[0m\n\u001b[0;32m----> 1\u001b[0;31m \u001b[0mbase_model\u001b[0m\u001b[0;34m.\u001b[0m\u001b[0mload_state_dict\u001b[0m\u001b[0;34m(\u001b[0m\u001b[0mtorch\u001b[0m\u001b[0;34m.\u001b[0m\u001b[0mload\u001b[0m\u001b[0;34m(\u001b[0m\u001b[0;34m'/content/drive/My Drive/Colab Notebooks/XLSor.pth'\u001b[0m\u001b[0;34m,\u001b[0m\u001b[0mmap_location\u001b[0m\u001b[0;34m=\u001b[0m\u001b[0mtorch\u001b[0m\u001b[0;34m.\u001b[0m\u001b[0mdevice\u001b[0m\u001b[0;34m(\u001b[0m\u001b[0;34m'cpu'\u001b[0m\u001b[0;34m)\u001b[0m\u001b[0;34m)\u001b[0m\u001b[0;34m)\u001b[0m\u001b[0;34m\u001b[0m\u001b[0;34m\u001b[0m\u001b[0m\n\u001b[0m",
            "\u001b[0;32m/usr/local/lib/python3.6/dist-packages/torch/nn/modules/module.py\u001b[0m in \u001b[0;36mload_state_dict\u001b[0;34m(self, state_dict, strict)\u001b[0m\n\u001b[1;32m    845\u001b[0m         \u001b[0;32mif\u001b[0m \u001b[0mlen\u001b[0m\u001b[0;34m(\u001b[0m\u001b[0merror_msgs\u001b[0m\u001b[0;34m)\u001b[0m \u001b[0;34m>\u001b[0m \u001b[0;36m0\u001b[0m\u001b[0;34m:\u001b[0m\u001b[0;34m\u001b[0m\u001b[0;34m\u001b[0m\u001b[0m\n\u001b[1;32m    846\u001b[0m             raise RuntimeError('Error(s) in loading state_dict for {}:\\n\\t{}'.format(\n\u001b[0;32m--> 847\u001b[0;31m                                self.__class__.__name__, \"\\n\\t\".join(error_msgs)))\n\u001b[0m\u001b[1;32m    848\u001b[0m         \u001b[0;32mreturn\u001b[0m \u001b[0m_IncompatibleKeys\u001b[0m\u001b[0;34m(\u001b[0m\u001b[0mmissing_keys\u001b[0m\u001b[0;34m,\u001b[0m \u001b[0munexpected_keys\u001b[0m\u001b[0;34m)\u001b[0m\u001b[0;34m\u001b[0m\u001b[0;34m\u001b[0m\u001b[0m\n\u001b[1;32m    849\u001b[0m \u001b[0;34m\u001b[0m\u001b[0m\n",
            "\u001b[0;31mRuntimeError\u001b[0m: Error(s) in loading state_dict for ResNet:\n\tMissing key(s) in state_dict: \"fc.weight\", \"fc.bias\". \n\tUnexpected key(s) in state_dict: \"conv2.weight\", \"bn2.weight\", \"bn2.bias\", \"bn2.running_mean\", \"bn2.running_var\", \"conv3.weight\", \"bn3.weight\", \"bn3.bias\", \"bn3.running_mean\", \"bn3.running_var\", \"head.conv1a.0.weight\", \"head.conv1a.1.weight\", \"head.conv1a.1.bias\", \"head.conv1a.1.running_mean\", \"head.conv1a.1.running_var\", \"head.cca.gamma\", \"head.cca.query_conv.weight\", \"head.cca.query_conv.bias\", \"head.cca.key_conv.weight\", \"head.cca.key_conv.bias\", \"head.cca.value_conv.weight\", \"head.cca.value_conv.bias\", \"head.conv1b.0.weight\", \"head.conv1b.1.weight\", \"head.conv1b.1.bias\", \"head.conv1b.1.running_mean\", \"head.conv1b.1.running_var\", \"head.bottleneck.0.weight\", \"head.bottleneck.1.weight\", \"head.bottleneck.1.bias\", \"head.bottleneck.1.running_mean\", \"head.bottleneck.1.running_var\", \"head.bottleneck.3.weight\", \"head.bottleneck.3.bias\", \"dsn.0.weight\", \"dsn.0.bias\", \"dsn.1.weight\", \"dsn.1.bias\", \"dsn.1.running_mean\", \"dsn.1.running_var\", \"dsn.3.weight\", \"dsn.3.bias\". \n\tsize mismatch for conv1.weight: copying a param with shape torch.Size([64, 3, 3, 3]) from checkpoint, the shape in current model is torch.Size([64, 3, 7, 7]).\n\tsize mismatch for layer1.0.conv1.weight: copying a param with shape torch.Size([64, 128, 1, 1]) from checkpoint, the shape in current model is torch.Size([64, 64, 1, 1]).\n\tsize mismatch for layer1.0.downsample.0.weight: copying a param with shape torch.Size([256, 128, 1, 1]) from checkpoint, the shape in current model is torch.Size([256, 64, 1, 1])."
          ]
        }
      ]
    },
    {
      "cell_type": "code",
      "metadata": {
        "id": "RmarDgoiFzPr",
        "colab_type": "code",
        "colab": {
          "base_uri": "https://localhost:8080/",
          "height": 34
        },
        "outputId": "042265d6-4cf9-47c2-cf60-677532a05402"
      },
      "source": [
        "model_pytorch = torch.load('/content/drive/My Drive/Colab Notebooks/XLSor.pth',map_location=torch.device('cpu'))\n",
        "type(model_pytorch)"
      ],
      "execution_count": 111,
      "outputs": [
        {
          "output_type": "execute_result",
          "data": {
            "text/plain": [
              "collections.OrderedDict"
            ]
          },
          "metadata": {
            "tags": []
          },
          "execution_count": 111
        }
      ]
    },
    {
      "cell_type": "code",
      "metadata": {
        "id": "AtsIByqdPq-y",
        "colab_type": "code",
        "colab": {
          "base_uri": "https://localhost:8080/",
          "height": 1000
        },
        "outputId": "3b19b815-34f8-4811-9983-28abd09f72a1"
      },
      "source": [
        "for x in model_pytorch.keys():\n",
        "    print(x)"
      ],
      "execution_count": 112,
      "outputs": [
        {
          "output_type": "stream",
          "text": [
            "conv1.weight\n",
            "bn1.weight\n",
            "bn1.bias\n",
            "bn1.running_mean\n",
            "bn1.running_var\n",
            "conv2.weight\n",
            "bn2.weight\n",
            "bn2.bias\n",
            "bn2.running_mean\n",
            "bn2.running_var\n",
            "conv3.weight\n",
            "bn3.weight\n",
            "bn3.bias\n",
            "bn3.running_mean\n",
            "bn3.running_var\n",
            "layer1.0.conv1.weight\n",
            "layer1.0.bn1.weight\n",
            "layer1.0.bn1.bias\n",
            "layer1.0.bn1.running_mean\n",
            "layer1.0.bn1.running_var\n",
            "layer1.0.conv2.weight\n",
            "layer1.0.bn2.weight\n",
            "layer1.0.bn2.bias\n",
            "layer1.0.bn2.running_mean\n",
            "layer1.0.bn2.running_var\n",
            "layer1.0.conv3.weight\n",
            "layer1.0.bn3.weight\n",
            "layer1.0.bn3.bias\n",
            "layer1.0.bn3.running_mean\n",
            "layer1.0.bn3.running_var\n",
            "layer1.0.downsample.0.weight\n",
            "layer1.0.downsample.1.weight\n",
            "layer1.0.downsample.1.bias\n",
            "layer1.0.downsample.1.running_mean\n",
            "layer1.0.downsample.1.running_var\n",
            "layer1.1.conv1.weight\n",
            "layer1.1.bn1.weight\n",
            "layer1.1.bn1.bias\n",
            "layer1.1.bn1.running_mean\n",
            "layer1.1.bn1.running_var\n",
            "layer1.1.conv2.weight\n",
            "layer1.1.bn2.weight\n",
            "layer1.1.bn2.bias\n",
            "layer1.1.bn2.running_mean\n",
            "layer1.1.bn2.running_var\n",
            "layer1.1.conv3.weight\n",
            "layer1.1.bn3.weight\n",
            "layer1.1.bn3.bias\n",
            "layer1.1.bn3.running_mean\n",
            "layer1.1.bn3.running_var\n",
            "layer1.2.conv1.weight\n",
            "layer1.2.bn1.weight\n",
            "layer1.2.bn1.bias\n",
            "layer1.2.bn1.running_mean\n",
            "layer1.2.bn1.running_var\n",
            "layer1.2.conv2.weight\n",
            "layer1.2.bn2.weight\n",
            "layer1.2.bn2.bias\n",
            "layer1.2.bn2.running_mean\n",
            "layer1.2.bn2.running_var\n",
            "layer1.2.conv3.weight\n",
            "layer1.2.bn3.weight\n",
            "layer1.2.bn3.bias\n",
            "layer1.2.bn3.running_mean\n",
            "layer1.2.bn3.running_var\n",
            "layer2.0.conv1.weight\n",
            "layer2.0.bn1.weight\n",
            "layer2.0.bn1.bias\n",
            "layer2.0.bn1.running_mean\n",
            "layer2.0.bn1.running_var\n",
            "layer2.0.conv2.weight\n",
            "layer2.0.bn2.weight\n",
            "layer2.0.bn2.bias\n",
            "layer2.0.bn2.running_mean\n",
            "layer2.0.bn2.running_var\n",
            "layer2.0.conv3.weight\n",
            "layer2.0.bn3.weight\n",
            "layer2.0.bn3.bias\n",
            "layer2.0.bn3.running_mean\n",
            "layer2.0.bn3.running_var\n",
            "layer2.0.downsample.0.weight\n",
            "layer2.0.downsample.1.weight\n",
            "layer2.0.downsample.1.bias\n",
            "layer2.0.downsample.1.running_mean\n",
            "layer2.0.downsample.1.running_var\n",
            "layer2.1.conv1.weight\n",
            "layer2.1.bn1.weight\n",
            "layer2.1.bn1.bias\n",
            "layer2.1.bn1.running_mean\n",
            "layer2.1.bn1.running_var\n",
            "layer2.1.conv2.weight\n",
            "layer2.1.bn2.weight\n",
            "layer2.1.bn2.bias\n",
            "layer2.1.bn2.running_mean\n",
            "layer2.1.bn2.running_var\n",
            "layer2.1.conv3.weight\n",
            "layer2.1.bn3.weight\n",
            "layer2.1.bn3.bias\n",
            "layer2.1.bn3.running_mean\n",
            "layer2.1.bn3.running_var\n",
            "layer2.2.conv1.weight\n",
            "layer2.2.bn1.weight\n",
            "layer2.2.bn1.bias\n",
            "layer2.2.bn1.running_mean\n",
            "layer2.2.bn1.running_var\n",
            "layer2.2.conv2.weight\n",
            "layer2.2.bn2.weight\n",
            "layer2.2.bn2.bias\n",
            "layer2.2.bn2.running_mean\n",
            "layer2.2.bn2.running_var\n",
            "layer2.2.conv3.weight\n",
            "layer2.2.bn3.weight\n",
            "layer2.2.bn3.bias\n",
            "layer2.2.bn3.running_mean\n",
            "layer2.2.bn3.running_var\n",
            "layer2.3.conv1.weight\n",
            "layer2.3.bn1.weight\n",
            "layer2.3.bn1.bias\n",
            "layer2.3.bn1.running_mean\n",
            "layer2.3.bn1.running_var\n",
            "layer2.3.conv2.weight\n",
            "layer2.3.bn2.weight\n",
            "layer2.3.bn2.bias\n",
            "layer2.3.bn2.running_mean\n",
            "layer2.3.bn2.running_var\n",
            "layer2.3.conv3.weight\n",
            "layer2.3.bn3.weight\n",
            "layer2.3.bn3.bias\n",
            "layer2.3.bn3.running_mean\n",
            "layer2.3.bn3.running_var\n",
            "layer3.0.conv1.weight\n",
            "layer3.0.bn1.weight\n",
            "layer3.0.bn1.bias\n",
            "layer3.0.bn1.running_mean\n",
            "layer3.0.bn1.running_var\n",
            "layer3.0.conv2.weight\n",
            "layer3.0.bn2.weight\n",
            "layer3.0.bn2.bias\n",
            "layer3.0.bn2.running_mean\n",
            "layer3.0.bn2.running_var\n",
            "layer3.0.conv3.weight\n",
            "layer3.0.bn3.weight\n",
            "layer3.0.bn3.bias\n",
            "layer3.0.bn3.running_mean\n",
            "layer3.0.bn3.running_var\n",
            "layer3.0.downsample.0.weight\n",
            "layer3.0.downsample.1.weight\n",
            "layer3.0.downsample.1.bias\n",
            "layer3.0.downsample.1.running_mean\n",
            "layer3.0.downsample.1.running_var\n",
            "layer3.1.conv1.weight\n",
            "layer3.1.bn1.weight\n",
            "layer3.1.bn1.bias\n",
            "layer3.1.bn1.running_mean\n",
            "layer3.1.bn1.running_var\n",
            "layer3.1.conv2.weight\n",
            "layer3.1.bn2.weight\n",
            "layer3.1.bn2.bias\n",
            "layer3.1.bn2.running_mean\n",
            "layer3.1.bn2.running_var\n",
            "layer3.1.conv3.weight\n",
            "layer3.1.bn3.weight\n",
            "layer3.1.bn3.bias\n",
            "layer3.1.bn3.running_mean\n",
            "layer3.1.bn3.running_var\n",
            "layer3.2.conv1.weight\n",
            "layer3.2.bn1.weight\n",
            "layer3.2.bn1.bias\n",
            "layer3.2.bn1.running_mean\n",
            "layer3.2.bn1.running_var\n",
            "layer3.2.conv2.weight\n",
            "layer3.2.bn2.weight\n",
            "layer3.2.bn2.bias\n",
            "layer3.2.bn2.running_mean\n",
            "layer3.2.bn2.running_var\n",
            "layer3.2.conv3.weight\n",
            "layer3.2.bn3.weight\n",
            "layer3.2.bn3.bias\n",
            "layer3.2.bn3.running_mean\n",
            "layer3.2.bn3.running_var\n",
            "layer3.3.conv1.weight\n",
            "layer3.3.bn1.weight\n",
            "layer3.3.bn1.bias\n",
            "layer3.3.bn1.running_mean\n",
            "layer3.3.bn1.running_var\n",
            "layer3.3.conv2.weight\n",
            "layer3.3.bn2.weight\n",
            "layer3.3.bn2.bias\n",
            "layer3.3.bn2.running_mean\n",
            "layer3.3.bn2.running_var\n",
            "layer3.3.conv3.weight\n",
            "layer3.3.bn3.weight\n",
            "layer3.3.bn3.bias\n",
            "layer3.3.bn3.running_mean\n",
            "layer3.3.bn3.running_var\n",
            "layer3.4.conv1.weight\n",
            "layer3.4.bn1.weight\n",
            "layer3.4.bn1.bias\n",
            "layer3.4.bn1.running_mean\n",
            "layer3.4.bn1.running_var\n",
            "layer3.4.conv2.weight\n",
            "layer3.4.bn2.weight\n",
            "layer3.4.bn2.bias\n",
            "layer3.4.bn2.running_mean\n",
            "layer3.4.bn2.running_var\n",
            "layer3.4.conv3.weight\n",
            "layer3.4.bn3.weight\n",
            "layer3.4.bn3.bias\n",
            "layer3.4.bn3.running_mean\n",
            "layer3.4.bn3.running_var\n",
            "layer3.5.conv1.weight\n",
            "layer3.5.bn1.weight\n",
            "layer3.5.bn1.bias\n",
            "layer3.5.bn1.running_mean\n",
            "layer3.5.bn1.running_var\n",
            "layer3.5.conv2.weight\n",
            "layer3.5.bn2.weight\n",
            "layer3.5.bn2.bias\n",
            "layer3.5.bn2.running_mean\n",
            "layer3.5.bn2.running_var\n",
            "layer3.5.conv3.weight\n",
            "layer3.5.bn3.weight\n",
            "layer3.5.bn3.bias\n",
            "layer3.5.bn3.running_mean\n",
            "layer3.5.bn3.running_var\n",
            "layer3.6.conv1.weight\n",
            "layer3.6.bn1.weight\n",
            "layer3.6.bn1.bias\n",
            "layer3.6.bn1.running_mean\n",
            "layer3.6.bn1.running_var\n",
            "layer3.6.conv2.weight\n",
            "layer3.6.bn2.weight\n",
            "layer3.6.bn2.bias\n",
            "layer3.6.bn2.running_mean\n",
            "layer3.6.bn2.running_var\n",
            "layer3.6.conv3.weight\n",
            "layer3.6.bn3.weight\n",
            "layer3.6.bn3.bias\n",
            "layer3.6.bn3.running_mean\n",
            "layer3.6.bn3.running_var\n",
            "layer3.7.conv1.weight\n",
            "layer3.7.bn1.weight\n",
            "layer3.7.bn1.bias\n",
            "layer3.7.bn1.running_mean\n",
            "layer3.7.bn1.running_var\n",
            "layer3.7.conv2.weight\n",
            "layer3.7.bn2.weight\n",
            "layer3.7.bn2.bias\n",
            "layer3.7.bn2.running_mean\n",
            "layer3.7.bn2.running_var\n",
            "layer3.7.conv3.weight\n",
            "layer3.7.bn3.weight\n",
            "layer3.7.bn3.bias\n",
            "layer3.7.bn3.running_mean\n",
            "layer3.7.bn3.running_var\n",
            "layer3.8.conv1.weight\n",
            "layer3.8.bn1.weight\n",
            "layer3.8.bn1.bias\n",
            "layer3.8.bn1.running_mean\n",
            "layer3.8.bn1.running_var\n",
            "layer3.8.conv2.weight\n",
            "layer3.8.bn2.weight\n",
            "layer3.8.bn2.bias\n",
            "layer3.8.bn2.running_mean\n",
            "layer3.8.bn2.running_var\n",
            "layer3.8.conv3.weight\n",
            "layer3.8.bn3.weight\n",
            "layer3.8.bn3.bias\n",
            "layer3.8.bn3.running_mean\n",
            "layer3.8.bn3.running_var\n",
            "layer3.9.conv1.weight\n",
            "layer3.9.bn1.weight\n",
            "layer3.9.bn1.bias\n",
            "layer3.9.bn1.running_mean\n",
            "layer3.9.bn1.running_var\n",
            "layer3.9.conv2.weight\n",
            "layer3.9.bn2.weight\n",
            "layer3.9.bn2.bias\n",
            "layer3.9.bn2.running_mean\n",
            "layer3.9.bn2.running_var\n",
            "layer3.9.conv3.weight\n",
            "layer3.9.bn3.weight\n",
            "layer3.9.bn3.bias\n",
            "layer3.9.bn3.running_mean\n",
            "layer3.9.bn3.running_var\n",
            "layer3.10.conv1.weight\n",
            "layer3.10.bn1.weight\n",
            "layer3.10.bn1.bias\n",
            "layer3.10.bn1.running_mean\n",
            "layer3.10.bn1.running_var\n",
            "layer3.10.conv2.weight\n",
            "layer3.10.bn2.weight\n",
            "layer3.10.bn2.bias\n",
            "layer3.10.bn2.running_mean\n",
            "layer3.10.bn2.running_var\n",
            "layer3.10.conv3.weight\n",
            "layer3.10.bn3.weight\n",
            "layer3.10.bn3.bias\n",
            "layer3.10.bn3.running_mean\n",
            "layer3.10.bn3.running_var\n",
            "layer3.11.conv1.weight\n",
            "layer3.11.bn1.weight\n",
            "layer3.11.bn1.bias\n",
            "layer3.11.bn1.running_mean\n",
            "layer3.11.bn1.running_var\n",
            "layer3.11.conv2.weight\n",
            "layer3.11.bn2.weight\n",
            "layer3.11.bn2.bias\n",
            "layer3.11.bn2.running_mean\n",
            "layer3.11.bn2.running_var\n",
            "layer3.11.conv3.weight\n",
            "layer3.11.bn3.weight\n",
            "layer3.11.bn3.bias\n",
            "layer3.11.bn3.running_mean\n",
            "layer3.11.bn3.running_var\n",
            "layer3.12.conv1.weight\n",
            "layer3.12.bn1.weight\n",
            "layer3.12.bn1.bias\n",
            "layer3.12.bn1.running_mean\n",
            "layer3.12.bn1.running_var\n",
            "layer3.12.conv2.weight\n",
            "layer3.12.bn2.weight\n",
            "layer3.12.bn2.bias\n",
            "layer3.12.bn2.running_mean\n",
            "layer3.12.bn2.running_var\n",
            "layer3.12.conv3.weight\n",
            "layer3.12.bn3.weight\n",
            "layer3.12.bn3.bias\n",
            "layer3.12.bn3.running_mean\n",
            "layer3.12.bn3.running_var\n",
            "layer3.13.conv1.weight\n",
            "layer3.13.bn1.weight\n",
            "layer3.13.bn1.bias\n",
            "layer3.13.bn1.running_mean\n",
            "layer3.13.bn1.running_var\n",
            "layer3.13.conv2.weight\n",
            "layer3.13.bn2.weight\n",
            "layer3.13.bn2.bias\n",
            "layer3.13.bn2.running_mean\n",
            "layer3.13.bn2.running_var\n",
            "layer3.13.conv3.weight\n",
            "layer3.13.bn3.weight\n",
            "layer3.13.bn3.bias\n",
            "layer3.13.bn3.running_mean\n",
            "layer3.13.bn3.running_var\n",
            "layer3.14.conv1.weight\n",
            "layer3.14.bn1.weight\n",
            "layer3.14.bn1.bias\n",
            "layer3.14.bn1.running_mean\n",
            "layer3.14.bn1.running_var\n",
            "layer3.14.conv2.weight\n",
            "layer3.14.bn2.weight\n",
            "layer3.14.bn2.bias\n",
            "layer3.14.bn2.running_mean\n",
            "layer3.14.bn2.running_var\n",
            "layer3.14.conv3.weight\n",
            "layer3.14.bn3.weight\n",
            "layer3.14.bn3.bias\n",
            "layer3.14.bn3.running_mean\n",
            "layer3.14.bn3.running_var\n",
            "layer3.15.conv1.weight\n",
            "layer3.15.bn1.weight\n",
            "layer3.15.bn1.bias\n",
            "layer3.15.bn1.running_mean\n",
            "layer3.15.bn1.running_var\n",
            "layer3.15.conv2.weight\n",
            "layer3.15.bn2.weight\n",
            "layer3.15.bn2.bias\n",
            "layer3.15.bn2.running_mean\n",
            "layer3.15.bn2.running_var\n",
            "layer3.15.conv3.weight\n",
            "layer3.15.bn3.weight\n",
            "layer3.15.bn3.bias\n",
            "layer3.15.bn3.running_mean\n",
            "layer3.15.bn3.running_var\n",
            "layer3.16.conv1.weight\n",
            "layer3.16.bn1.weight\n",
            "layer3.16.bn1.bias\n",
            "layer3.16.bn1.running_mean\n",
            "layer3.16.bn1.running_var\n",
            "layer3.16.conv2.weight\n",
            "layer3.16.bn2.weight\n",
            "layer3.16.bn2.bias\n",
            "layer3.16.bn2.running_mean\n",
            "layer3.16.bn2.running_var\n",
            "layer3.16.conv3.weight\n",
            "layer3.16.bn3.weight\n",
            "layer3.16.bn3.bias\n",
            "layer3.16.bn3.running_mean\n",
            "layer3.16.bn3.running_var\n",
            "layer3.17.conv1.weight\n",
            "layer3.17.bn1.weight\n",
            "layer3.17.bn1.bias\n",
            "layer3.17.bn1.running_mean\n",
            "layer3.17.bn1.running_var\n",
            "layer3.17.conv2.weight\n",
            "layer3.17.bn2.weight\n",
            "layer3.17.bn2.bias\n",
            "layer3.17.bn2.running_mean\n",
            "layer3.17.bn2.running_var\n",
            "layer3.17.conv3.weight\n",
            "layer3.17.bn3.weight\n",
            "layer3.17.bn3.bias\n",
            "layer3.17.bn3.running_mean\n",
            "layer3.17.bn3.running_var\n",
            "layer3.18.conv1.weight\n",
            "layer3.18.bn1.weight\n",
            "layer3.18.bn1.bias\n",
            "layer3.18.bn1.running_mean\n",
            "layer3.18.bn1.running_var\n",
            "layer3.18.conv2.weight\n",
            "layer3.18.bn2.weight\n",
            "layer3.18.bn2.bias\n",
            "layer3.18.bn2.running_mean\n",
            "layer3.18.bn2.running_var\n",
            "layer3.18.conv3.weight\n",
            "layer3.18.bn3.weight\n",
            "layer3.18.bn3.bias\n",
            "layer3.18.bn3.running_mean\n",
            "layer3.18.bn3.running_var\n",
            "layer3.19.conv1.weight\n",
            "layer3.19.bn1.weight\n",
            "layer3.19.bn1.bias\n",
            "layer3.19.bn1.running_mean\n",
            "layer3.19.bn1.running_var\n",
            "layer3.19.conv2.weight\n",
            "layer3.19.bn2.weight\n",
            "layer3.19.bn2.bias\n",
            "layer3.19.bn2.running_mean\n",
            "layer3.19.bn2.running_var\n",
            "layer3.19.conv3.weight\n",
            "layer3.19.bn3.weight\n",
            "layer3.19.bn3.bias\n",
            "layer3.19.bn3.running_mean\n",
            "layer3.19.bn3.running_var\n",
            "layer3.20.conv1.weight\n",
            "layer3.20.bn1.weight\n",
            "layer3.20.bn1.bias\n",
            "layer3.20.bn1.running_mean\n",
            "layer3.20.bn1.running_var\n",
            "layer3.20.conv2.weight\n",
            "layer3.20.bn2.weight\n",
            "layer3.20.bn2.bias\n",
            "layer3.20.bn2.running_mean\n",
            "layer3.20.bn2.running_var\n",
            "layer3.20.conv3.weight\n",
            "layer3.20.bn3.weight\n",
            "layer3.20.bn3.bias\n",
            "layer3.20.bn3.running_mean\n",
            "layer3.20.bn3.running_var\n",
            "layer3.21.conv1.weight\n",
            "layer3.21.bn1.weight\n",
            "layer3.21.bn1.bias\n",
            "layer3.21.bn1.running_mean\n",
            "layer3.21.bn1.running_var\n",
            "layer3.21.conv2.weight\n",
            "layer3.21.bn2.weight\n",
            "layer3.21.bn2.bias\n",
            "layer3.21.bn2.running_mean\n",
            "layer3.21.bn2.running_var\n",
            "layer3.21.conv3.weight\n",
            "layer3.21.bn3.weight\n",
            "layer3.21.bn3.bias\n",
            "layer3.21.bn3.running_mean\n",
            "layer3.21.bn3.running_var\n",
            "layer3.22.conv1.weight\n",
            "layer3.22.bn1.weight\n",
            "layer3.22.bn1.bias\n",
            "layer3.22.bn1.running_mean\n",
            "layer3.22.bn1.running_var\n",
            "layer3.22.conv2.weight\n",
            "layer3.22.bn2.weight\n",
            "layer3.22.bn2.bias\n",
            "layer3.22.bn2.running_mean\n",
            "layer3.22.bn2.running_var\n",
            "layer3.22.conv3.weight\n",
            "layer3.22.bn3.weight\n",
            "layer3.22.bn3.bias\n",
            "layer3.22.bn3.running_mean\n",
            "layer3.22.bn3.running_var\n",
            "layer4.0.conv1.weight\n",
            "layer4.0.bn1.weight\n",
            "layer4.0.bn1.bias\n",
            "layer4.0.bn1.running_mean\n",
            "layer4.0.bn1.running_var\n",
            "layer4.0.conv2.weight\n",
            "layer4.0.bn2.weight\n",
            "layer4.0.bn2.bias\n",
            "layer4.0.bn2.running_mean\n",
            "layer4.0.bn2.running_var\n",
            "layer4.0.conv3.weight\n",
            "layer4.0.bn3.weight\n",
            "layer4.0.bn3.bias\n",
            "layer4.0.bn3.running_mean\n",
            "layer4.0.bn3.running_var\n",
            "layer4.0.downsample.0.weight\n",
            "layer4.0.downsample.1.weight\n",
            "layer4.0.downsample.1.bias\n",
            "layer4.0.downsample.1.running_mean\n",
            "layer4.0.downsample.1.running_var\n",
            "layer4.1.conv1.weight\n",
            "layer4.1.bn1.weight\n",
            "layer4.1.bn1.bias\n",
            "layer4.1.bn1.running_mean\n",
            "layer4.1.bn1.running_var\n",
            "layer4.1.conv2.weight\n",
            "layer4.1.bn2.weight\n",
            "layer4.1.bn2.bias\n",
            "layer4.1.bn2.running_mean\n",
            "layer4.1.bn2.running_var\n",
            "layer4.1.conv3.weight\n",
            "layer4.1.bn3.weight\n",
            "layer4.1.bn3.bias\n",
            "layer4.1.bn3.running_mean\n",
            "layer4.1.bn3.running_var\n",
            "layer4.2.conv1.weight\n",
            "layer4.2.bn1.weight\n",
            "layer4.2.bn1.bias\n",
            "layer4.2.bn1.running_mean\n",
            "layer4.2.bn1.running_var\n",
            "layer4.2.conv2.weight\n",
            "layer4.2.bn2.weight\n",
            "layer4.2.bn2.bias\n",
            "layer4.2.bn2.running_mean\n",
            "layer4.2.bn2.running_var\n",
            "layer4.2.conv3.weight\n",
            "layer4.2.bn3.weight\n",
            "layer4.2.bn3.bias\n",
            "layer4.2.bn3.running_mean\n",
            "layer4.2.bn3.running_var\n",
            "head.conv1a.0.weight\n",
            "head.conv1a.1.weight\n",
            "head.conv1a.1.bias\n",
            "head.conv1a.1.running_mean\n",
            "head.conv1a.1.running_var\n",
            "head.cca.gamma\n",
            "head.cca.query_conv.weight\n",
            "head.cca.query_conv.bias\n",
            "head.cca.key_conv.weight\n",
            "head.cca.key_conv.bias\n",
            "head.cca.value_conv.weight\n",
            "head.cca.value_conv.bias\n",
            "head.conv1b.0.weight\n",
            "head.conv1b.1.weight\n",
            "head.conv1b.1.bias\n",
            "head.conv1b.1.running_mean\n",
            "head.conv1b.1.running_var\n",
            "head.bottleneck.0.weight\n",
            "head.bottleneck.1.weight\n",
            "head.bottleneck.1.bias\n",
            "head.bottleneck.1.running_mean\n",
            "head.bottleneck.1.running_var\n",
            "head.bottleneck.3.weight\n",
            "head.bottleneck.3.bias\n",
            "dsn.0.weight\n",
            "dsn.0.bias\n",
            "dsn.1.weight\n",
            "dsn.1.bias\n",
            "dsn.1.running_mean\n",
            "dsn.1.running_var\n",
            "dsn.3.weight\n",
            "dsn.3.bias\n"
          ],
          "name": "stdout"
        }
      ]
    },
    {
      "cell_type": "code",
      "metadata": {
        "id": "hoFDu0ABUZTi",
        "colab_type": "code",
        "colab": {}
      },
      "source": [
        "model = "
      ],
      "execution_count": 0,
      "outputs": []
    },
    {
      "cell_type": "code",
      "metadata": {
        "id": "Cosv6O6uNIE4",
        "colab_type": "code",
        "colab": {
          "base_uri": "https://localhost:8080/",
          "height": 34
        },
        "outputId": "d07bd947-f737-45fb-ef78-7b6969bf9f61"
      },
      "source": [
        "type(model_pytorch)"
      ],
      "execution_count": 64,
      "outputs": [
        {
          "output_type": "execute_result",
          "data": {
            "text/plain": [
              "collections.OrderedDict"
            ]
          },
          "metadata": {
            "tags": []
          },
          "execution_count": 64
        }
      ]
    },
    {
      "cell_type": "code",
      "metadata": {
        "id": "ANf4Z1o1NJtV",
        "colab_type": "code",
        "colab": {}
      },
      "source": [
        "input_np = np.random.uniform(0, 1, (1, 3, 512, 512))\n",
        "input_var = Variable(torch.FloatTensor(input_np))"
      ],
      "execution_count": 0,
      "outputs": []
    },
    {
      "cell_type": "code",
      "metadata": {
        "id": "qH3RhNX4NcQE",
        "colab_type": "code",
        "colab": {
          "base_uri": "https://localhost:8080/",
          "height": 333
        },
        "outputId": "8888fa8b-5eee-41e4-ce02-5f8724d14c94"
      },
      "source": [
        "k_model = pytorch_to_keras(model_pytorch, input_var, [(3,None,None)], verbose=True)"
      ],
      "execution_count": 67,
      "outputs": [
        {
          "output_type": "stream",
          "text": [
            "INFO:pytorch2keras:Converter is called.\n",
            "WARNING:pytorch2keras:Custom shapes isn't supported now.\n"
          ],
          "name": "stderr"
        },
        {
          "output_type": "error",
          "ename": "TypeError",
          "evalue": "ignored",
          "traceback": [
            "\u001b[0;31m---------------------------------------------------------------------------\u001b[0m",
            "\u001b[0;31mTypeError\u001b[0m                                 Traceback (most recent call last)",
            "\u001b[0;32m<ipython-input-67-c5741725b520>\u001b[0m in \u001b[0;36m<module>\u001b[0;34m()\u001b[0m\n\u001b[0;32m----> 1\u001b[0;31m \u001b[0mk_model\u001b[0m \u001b[0;34m=\u001b[0m \u001b[0mpytorch_to_keras\u001b[0m\u001b[0;34m(\u001b[0m\u001b[0mmodel_pytorch\u001b[0m\u001b[0;34m,\u001b[0m \u001b[0minput_var\u001b[0m\u001b[0;34m,\u001b[0m \u001b[0;34m[\u001b[0m\u001b[0;34m(\u001b[0m\u001b[0;36m3\u001b[0m\u001b[0;34m,\u001b[0m\u001b[0;32mNone\u001b[0m\u001b[0;34m,\u001b[0m\u001b[0;32mNone\u001b[0m\u001b[0;34m)\u001b[0m\u001b[0;34m]\u001b[0m\u001b[0;34m,\u001b[0m \u001b[0mverbose\u001b[0m\u001b[0;34m=\u001b[0m\u001b[0;32mTrue\u001b[0m\u001b[0;34m)\u001b[0m\u001b[0;34m\u001b[0m\u001b[0;34m\u001b[0m\u001b[0m\n\u001b[0m",
            "\u001b[0;32m/usr/local/lib/python3.6/dist-packages/pytorch2keras/converter.py\u001b[0m in \u001b[0;36mpytorch_to_keras\u001b[0;34m(model, args, input_shapes, change_ordering, verbose, name_policy, use_optimizer, do_constant_folding)\u001b[0m\n\u001b[1;32m     51\u001b[0m     \u001b[0margs\u001b[0m \u001b[0;34m=\u001b[0m \u001b[0mtuple\u001b[0m\u001b[0;34m(\u001b[0m\u001b[0margs\u001b[0m\u001b[0;34m)\u001b[0m\u001b[0;34m\u001b[0m\u001b[0;34m\u001b[0m\u001b[0m\n\u001b[1;32m     52\u001b[0m \u001b[0;34m\u001b[0m\u001b[0m\n\u001b[0;32m---> 53\u001b[0;31m     \u001b[0mdummy_output\u001b[0m \u001b[0;34m=\u001b[0m \u001b[0mmodel\u001b[0m\u001b[0;34m(\u001b[0m\u001b[0;34m*\u001b[0m\u001b[0margs\u001b[0m\u001b[0;34m)\u001b[0m\u001b[0;34m\u001b[0m\u001b[0;34m\u001b[0m\u001b[0m\n\u001b[0m\u001b[1;32m     54\u001b[0m \u001b[0;34m\u001b[0m\u001b[0m\n\u001b[1;32m     55\u001b[0m     \u001b[0;32mif\u001b[0m \u001b[0misinstance\u001b[0m\u001b[0;34m(\u001b[0m\u001b[0mdummy_output\u001b[0m\u001b[0;34m,\u001b[0m \u001b[0mtorch\u001b[0m\u001b[0;34m.\u001b[0m\u001b[0mautograd\u001b[0m\u001b[0;34m.\u001b[0m\u001b[0mVariable\u001b[0m\u001b[0;34m)\u001b[0m\u001b[0;34m:\u001b[0m\u001b[0;34m\u001b[0m\u001b[0;34m\u001b[0m\u001b[0m\n",
            "\u001b[0;31mTypeError\u001b[0m: 'collections.OrderedDict' object is not callable"
          ]
        }
      ]
    },
    {
      "cell_type": "code",
      "metadata": {
        "id": "60IU-BlwOmGd",
        "colab_type": "code",
        "colab": {}
      },
      "source": [
        ""
      ],
      "execution_count": 0,
      "outputs": []
    },
    {
      "cell_type": "code",
      "metadata": {
        "id": "xDa_wQhXFVzp",
        "colab_type": "code",
        "colab": {}
      },
      "source": [
        "\n",
        "model_pytorch = SimpleModel(input_size=input_size, hidden_sizes=hidden_sizes, output_size=output_size)\n",
        "model_pytorch.load_state_dict(torch.load('./models/model_simple.pt'))\n"
      ],
      "execution_count": 0,
      "outputs": []
    }
  ]
}